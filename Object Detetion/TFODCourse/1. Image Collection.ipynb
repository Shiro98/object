{
 "cells": [
  {
   "cell_type": "markdown",
   "metadata": {},
   "source": [
    "# 1. Import Dependencies"
   ]
  },
  {
   "cell_type": "code",
   "execution_count": 1,
   "metadata": {
    "scrolled": true
   },
   "outputs": [
    {
     "name": "stdout",
     "output_type": "stream",
     "text": [
      "Collecting opencv-python\n",
      "  Obtaining dependency information for opencv-python from https://files.pythonhosted.org/packages/38/d2/3e8c13ffc37ca5ebc6f382b242b44acb43eb489042e1728407ac3904e72f/opencv_python-4.8.1.78-cp37-abi3-win_amd64.whl.metadata\n",
      "  Downloading opencv_python-4.8.1.78-cp37-abi3-win_amd64.whl.metadata (20 kB)\n",
      "Requirement already satisfied: numpy>=1.21.2 in c:\\users\\adminc\\anaconda3\\lib\\site-packages (from opencv-python) (1.24.3)\n",
      "Downloading opencv_python-4.8.1.78-cp37-abi3-win_amd64.whl (38.1 MB)\n",
      "   ---------------------------------------- 0.0/38.1 MB ? eta -:--:--\n",
      "   ---------------------------------------- 0.0/38.1 MB 1.3 MB/s eta 0:00:30\n",
      "   ---------------------------------------- 0.2/38.1 MB 2.9 MB/s eta 0:00:13\n",
      "    --------------------------------------- 0.6/38.1 MB 5.1 MB/s eta 0:00:08\n",
      "   - -------------------------------------- 1.2/38.1 MB 7.0 MB/s eta 0:00:06\n",
      "   - -------------------------------------- 1.3/38.1 MB 7.7 MB/s eta 0:00:05\n",
      "   -- ------------------------------------- 2.7/38.1 MB 10.8 MB/s eta 0:00:04\n",
      "   --- ------------------------------------ 3.7/38.1 MB 12.4 MB/s eta 0:00:03\n",
      "   ---- ----------------------------------- 4.8/38.1 MB 13.8 MB/s eta 0:00:03\n",
      "   ------ --------------------------------- 6.0/38.1 MB 14.9 MB/s eta 0:00:03\n",
      "   ------- -------------------------------- 7.1/38.1 MB 16.1 MB/s eta 0:00:02\n",
      "   -------- ------------------------------- 8.2/38.1 MB 16.9 MB/s eta 0:00:02\n",
      "   --------- ------------------------------ 9.4/38.1 MB 17.7 MB/s eta 0:00:02\n",
      "   ---------- ----------------------------- 10.4/38.1 MB 19.9 MB/s eta 0:00:02\n",
      "   ----------- ---------------------------- 11.0/38.1 MB 21.1 MB/s eta 0:00:02\n",
      "   ------------ --------------------------- 11.8/38.1 MB 23.4 MB/s eta 0:00:02\n",
      "   ------------ --------------------------- 12.3/38.1 MB 21.1 MB/s eta 0:00:02\n",
      "   ------------- -------------------------- 12.8/38.1 MB 19.8 MB/s eta 0:00:02\n",
      "   ------------- -------------------------- 13.3/38.1 MB 19.2 MB/s eta 0:00:02\n",
      "   -------------- ------------------------- 13.8/38.1 MB 18.7 MB/s eta 0:00:02\n",
      "   --------------- ------------------------ 14.3/38.1 MB 18.2 MB/s eta 0:00:02\n",
      "   --------------- ------------------------ 14.8/38.1 MB 16.8 MB/s eta 0:00:02\n",
      "   --------------- ------------------------ 15.2/38.1 MB 16.4 MB/s eta 0:00:02\n",
      "   ---------------- ----------------------- 15.6/38.1 MB 15.2 MB/s eta 0:00:02\n",
      "   ---------------- ----------------------- 15.8/38.1 MB 14.6 MB/s eta 0:00:02\n",
      "   ----------------- ---------------------- 16.3/38.1 MB 14.2 MB/s eta 0:00:02\n",
      "   ----------------- ---------------------- 16.9/38.1 MB 13.4 MB/s eta 0:00:02\n",
      "   ------------------ --------------------- 17.4/38.1 MB 13.4 MB/s eta 0:00:02\n",
      "   ------------------ --------------------- 18.0/38.1 MB 12.8 MB/s eta 0:00:02\n",
      "   ------------------- -------------------- 18.5/38.1 MB 12.4 MB/s eta 0:00:02\n",
      "   -------------------- ------------------- 19.1/38.1 MB 11.9 MB/s eta 0:00:02\n",
      "   -------------------- ------------------- 19.6/38.1 MB 11.5 MB/s eta 0:00:02\n",
      "   --------------------- ------------------ 20.1/38.1 MB 11.5 MB/s eta 0:00:02\n",
      "   --------------------- ------------------ 20.6/38.1 MB 11.1 MB/s eta 0:00:02\n",
      "   ---------------------- ----------------- 21.0/38.1 MB 10.9 MB/s eta 0:00:02\n",
      "   ---------------------- ----------------- 21.5/38.1 MB 11.1 MB/s eta 0:00:02\n",
      "   ----------------------- ---------------- 22.0/38.1 MB 10.6 MB/s eta 0:00:02\n",
      "   ----------------------- ---------------- 22.6/38.1 MB 10.6 MB/s eta 0:00:02\n",
      "   ------------------------ --------------- 23.1/38.1 MB 10.7 MB/s eta 0:00:02\n",
      "   ------------------------ --------------- 23.7/38.1 MB 10.7 MB/s eta 0:00:02\n",
      "   ------------------------- -------------- 24.3/38.1 MB 10.9 MB/s eta 0:00:02\n",
      "   -------------------------- ------------- 24.8/38.1 MB 10.9 MB/s eta 0:00:02\n",
      "   -------------------------- ------------- 25.3/38.1 MB 11.1 MB/s eta 0:00:02\n",
      "   --------------------------- ------------ 25.8/38.1 MB 11.5 MB/s eta 0:00:02\n",
      "   --------------------------- ------------ 26.3/38.1 MB 11.7 MB/s eta 0:00:02\n",
      "   ---------------------------- ----------- 26.8/38.1 MB 11.7 MB/s eta 0:00:01\n",
      "   ---------------------------- ----------- 27.3/38.1 MB 11.9 MB/s eta 0:00:01\n",
      "   ----------------------------- ---------- 27.7/38.1 MB 11.7 MB/s eta 0:00:01\n",
      "   ----------------------------- ---------- 28.3/38.1 MB 11.7 MB/s eta 0:00:01\n",
      "   ------------------------------ --------- 28.8/38.1 MB 11.7 MB/s eta 0:00:01\n",
      "   ------------------------------ --------- 29.5/38.1 MB 11.9 MB/s eta 0:00:01\n",
      "   ------------------------------- -------- 30.0/38.1 MB 11.9 MB/s eta 0:00:01\n",
      "   ------------------------------- -------- 30.4/38.1 MB 11.9 MB/s eta 0:00:01\n",
      "   -------------------------------- ------- 30.8/38.1 MB 11.7 MB/s eta 0:00:01\n",
      "   -------------------------------- ------- 31.2/38.1 MB 11.9 MB/s eta 0:00:01\n",
      "   --------------------------------- ------ 31.8/38.1 MB 11.9 MB/s eta 0:00:01\n",
      "   --------------------------------- ------ 32.2/38.1 MB 11.9 MB/s eta 0:00:01\n",
      "   ---------------------------------- ----- 32.8/38.1 MB 11.7 MB/s eta 0:00:01\n",
      "   ---------------------------------- ----- 33.2/38.1 MB 11.7 MB/s eta 0:00:01\n",
      "   ----------------------------------- ---- 33.7/38.1 MB 11.7 MB/s eta 0:00:01\n",
      "   ----------------------------------- ---- 34.0/38.1 MB 11.5 MB/s eta 0:00:01\n",
      "   ------------------------------------ --- 34.4/38.1 MB 11.1 MB/s eta 0:00:01\n",
      "   ------------------------------------ --- 34.8/38.1 MB 10.9 MB/s eta 0:00:01\n",
      "   ------------------------------------- -- 35.2/38.1 MB 10.9 MB/s eta 0:00:01\n",
      "   ------------------------------------- -- 35.6/38.1 MB 10.9 MB/s eta 0:00:01\n",
      "   ------------------------------------- -- 36.0/38.1 MB 10.7 MB/s eta 0:00:01\n",
      "   -------------------------------------- - 36.4/38.1 MB 10.7 MB/s eta 0:00:01\n",
      "   -------------------------------------- - 36.8/38.1 MB 10.6 MB/s eta 0:00:01\n",
      "   ---------------------------------------  37.2/38.1 MB 10.2 MB/s eta 0:00:01\n",
      "   ---------------------------------------  37.6/38.1 MB 10.2 MB/s eta 0:00:01\n",
      "   ---------------------------------------  38.0/38.1 MB 10.1 MB/s eta 0:00:01\n",
      "   ---------------------------------------  38.1/38.1 MB 10.2 MB/s eta 0:00:01\n",
      "   ---------------------------------------  38.1/38.1 MB 10.2 MB/s eta 0:00:01\n",
      "   ---------------------------------------- 38.1/38.1 MB 9.1 MB/s eta 0:00:00\n",
      "Installing collected packages: opencv-python\n",
      "Successfully installed opencv-python-4.8.1.78\n"
     ]
    }
   ],
   "source": [
    "!pip install opencv-python"
   ]
  },
  {
   "cell_type": "code",
   "execution_count": 1,
   "metadata": {},
   "outputs": [],
   "source": [
    "# Import opencv\n",
    "import cv2 \n",
    "\n",
    "# Import uuid\n",
    "import uuid\n",
    "\n",
    "# Import Operating System\n",
    "import os\n",
    "\n",
    "# Import time\n",
    "import time"
   ]
  },
  {
   "cell_type": "markdown",
   "metadata": {},
   "source": [
    "# 2. Define Images to Collect"
   ]
  },
  {
   "cell_type": "code",
   "execution_count": 2,
   "metadata": {},
   "outputs": [],
   "source": [
    "labels = ['DoanDuongPhu', 'MaiXuanHoan', 'NguyenManhCuong',]\n",
    "number_imgs = 4"
   ]
  },
  {
   "cell_type": "markdown",
   "metadata": {},
   "source": [
    "# 3. Setup Folders "
   ]
  },
  {
   "cell_type": "code",
   "execution_count": 3,
   "metadata": {},
   "outputs": [],
   "source": [
    "IMAGES_PATH = os.path.join('Tensorflow', 'workspace', 'images', 'collectedimages')"
   ]
  },
  {
   "cell_type": "code",
   "execution_count": 4,
   "metadata": {},
   "outputs": [],
   "source": [
    "if not os.path.exists(IMAGES_PATH):\n",
    "    if os.name == 'posix':\n",
    "        !mkdir -p {IMAGES_PATH}\n",
    "    if os.name == 'nt':\n",
    "         !mkdir {IMAGES_PATH}\n",
    "for label in labels:\n",
    "    path = os.path.join(IMAGES_PATH, label)\n",
    "    if not os.path.exists(path):\n",
    "        !mkdir {path}"
   ]
  },
  {
   "cell_type": "markdown",
   "metadata": {},
   "source": [
    "# 4. Capture Images"
   ]
  },
  {
   "cell_type": "code",
   "execution_count": 5,
   "metadata": {},
   "outputs": [
    {
     "name": "stdout",
     "output_type": "stream",
     "text": [
      "Collecting images for DoanDuongPhu\n",
      "Collecting image 0\n",
      "Collecting image 1\n",
      "Collecting image 2\n",
      "Collecting image 3\n",
      "Collecting images for MaiXuanHoan\n",
      "Collecting image 0\n",
      "Collecting image 1\n",
      "Collecting image 2\n",
      "Collecting image 3\n",
      "Collecting images for NguyenManhCuong\n",
      "Collecting image 0\n",
      "Collecting image 1\n",
      "Collecting image 2\n",
      "Collecting image 3\n"
     ]
    }
   ],
   "source": [
    "for label in labels:\n",
    "    cap = cv2.VideoCapture(0)\n",
    "    print('Collecting images for {}'.format(label))\n",
    "    time.sleep(5)\n",
    "    for imgnum in range(number_imgs):\n",
    "        print('Collecting image {}'.format(imgnum))\n",
    "        ret, frame = cap.read()\n",
    "        imgname = os.path.join(IMAGES_PATH,label,label+'.'+'{}.jpg'.format(str(uuid.uuid1())))\n",
    "        cv2.imwrite(imgname, frame)\n",
    "        cv2.imshow('frame', frame)\n",
    "        time.sleep(2)\n",
    "\n",
    "        if cv2.waitKey(1) & 0xFF == ord('q'):\n",
    "            break\n",
    "cap.release()\n",
    "cv2.destroyAllWindows()"
   ]
  },
  {
   "cell_type": "markdown",
   "metadata": {},
   "source": [
    "# 5. Image Labelling"
   ]
  },
  {
   "cell_type": "code",
   "execution_count": 6,
   "metadata": {},
   "outputs": [
    {
     "name": "stdout",
     "output_type": "stream",
     "text": [
      "Requirement already satisfied: pyqt5 in c:\\users\\adminc\\anaconda3\\lib\\site-packages (5.15.7)\n",
      "Collecting pyqt5\n",
      "  Obtaining dependency information for pyqt5 from https://files.pythonhosted.org/packages/ca/ac/596e8ca16fd0634542d874c0d79219fc527ea7de73a5000092f60ecbf6e9/PyQt5-5.15.10-cp37-abi3-win_amd64.whl.metadata\n",
      "  Downloading PyQt5-5.15.10-cp37-abi3-win_amd64.whl.metadata (2.2 kB)\n",
      "Requirement already satisfied: lxml in c:\\users\\adminc\\anaconda3\\lib\\site-packages (4.9.3)\n",
      "Collecting PyQt5-sip<13,>=12.13 (from pyqt5)\n",
      "  Obtaining dependency information for PyQt5-sip<13,>=12.13 from https://files.pythonhosted.org/packages/8e/e2/d296cb17bae19ba49137a2649934a70d5f48cc99b7daa6ce9cf1aecddfeb/PyQt5_sip-12.13.0-cp311-cp311-win_amd64.whl.metadata\n",
      "  Downloading PyQt5_sip-12.13.0-cp311-cp311-win_amd64.whl.metadata (524 bytes)\n",
      "Collecting PyQt5-Qt5>=5.15.2 (from pyqt5)\n",
      "  Using cached PyQt5_Qt5-5.15.2-py3-none-win_amd64.whl (50.1 MB)\n",
      "Downloading PyQt5-5.15.10-cp37-abi3-win_amd64.whl (6.8 MB)\n",
      "   ---------------------------------------- 0.0/6.8 MB ? eta -:--:--\n",
      "   ---------------------------------------- 0.0/6.8 MB ? eta -:--:--\n",
      "    --------------------------------------- 0.1/6.8 MB 1.5 MB/s eta 0:00:05\n",
      "   -- ------------------------------------- 0.4/6.8 MB 3.5 MB/s eta 0:00:02\n",
      "   ------ --------------------------------- 1.1/6.8 MB 7.1 MB/s eta 0:00:01\n",
      "   ------------- -------------------------- 2.4/6.8 MB 11.7 MB/s eta 0:00:01\n",
      "   ------------- -------------------------- 2.4/6.8 MB 11.7 MB/s eta 0:00:01\n",
      "   ----------------------------- ---------- 5.1/6.8 MB 18.1 MB/s eta 0:00:01\n",
      "   ---------------------------------------  6.8/6.8 MB 21.9 MB/s eta 0:00:01\n",
      "   ---------------------------------------- 6.8/6.8 MB 19.9 MB/s eta 0:00:00\n",
      "Downloading PyQt5_sip-12.13.0-cp311-cp311-win_amd64.whl (78 kB)\n",
      "   ---------------------------------------- 0.0/78.5 kB ? eta -:--:--\n",
      "   ---------------------------------------- 78.5/78.5 kB ? eta 0:00:00\n",
      "Installing collected packages: PyQt5-Qt5, PyQt5-sip, pyqt5\n",
      "  Attempting uninstall: PyQt5-sip\n",
      "    Found existing installation: PyQt5-sip 12.11.0\n",
      "    Uninstalling PyQt5-sip-12.11.0:\n",
      "      Successfully uninstalled PyQt5-sip-12.11.0\n",
      "  Attempting uninstall: pyqt5\n",
      "    Found existing installation: PyQt5 5.15.7\n",
      "    Uninstalling PyQt5-5.15.7:\n",
      "      Successfully uninstalled PyQt5-5.15.7\n",
      "Successfully installed PyQt5-Qt5-5.15.2 PyQt5-sip-12.13.0 pyqt5-5.15.10\n"
     ]
    }
   ],
   "source": [
    "!pip install --upgrade pyqt5 lxml"
   ]
  },
  {
   "cell_type": "code",
   "execution_count": 7,
   "metadata": {},
   "outputs": [],
   "source": [
    "LABELIMG_PATH = os.path.join('Tensorflow', 'labelimg')"
   ]
  },
  {
   "cell_type": "code",
   "execution_count": 8,
   "metadata": {},
   "outputs": [],
   "source": [
    "if not os.path.exists(LABELIMG_PATH):\n",
    "    !mkdir {LABELIMG_PATH}\n",
    "    !git clone https://github.com/tzutalin/labelImg {LABELIMG_PATH}"
   ]
  },
  {
   "cell_type": "code",
   "execution_count": 9,
   "metadata": {},
   "outputs": [],
   "source": [
    "if os.name == 'posix':\n",
    "    !make qt5py3\n",
    "if os.name =='nt':\n",
    "    !cd {LABELIMG_PATH} && pyrcc5 -o libs/resources.py resources.qrc"
   ]
  },
  {
   "cell_type": "code",
   "execution_count": 13,
   "metadata": {},
   "outputs": [
    {
     "name": "stderr",
     "output_type": "stream",
     "text": [
      "Unhandled Python exception\n"
     ]
    }
   ],
   "source": [
    "!cd {LABELIMG_PATH} && python labelImg.py"
   ]
  },
  {
   "cell_type": "markdown",
   "metadata": {},
   "source": [
    "# 6. Move them into a Training and Testing Partition"
   ]
  },
  {
   "cell_type": "markdown",
   "metadata": {},
   "source": [
    "# OPTIONAL - 7. Compress them for Colab Training"
   ]
  },
  {
   "cell_type": "code",
   "execution_count": 20,
   "metadata": {},
   "outputs": [],
   "source": [
    "TRAIN_PATH = os.path.join('Tensorflow', 'workspace', 'images', 'train')\n",
    "TEST_PATH = os.path.join('Tensorflow', 'workspace', 'images', 'test')\n",
    "ARCHIVE_PATH = os.path.join('Tensorflow', 'workspace', 'images', 'archive.tar.gz')"
   ]
  },
  {
   "cell_type": "code",
   "execution_count": 21,
   "metadata": {},
   "outputs": [],
   "source": [
    "!tar -czf {ARCHIVE_PATH} {TRAIN_PATH} {TEST_PATH}"
   ]
  },
  {
   "cell_type": "code",
   "execution_count": null,
   "metadata": {},
   "outputs": [],
   "source": []
  }
 ],
 "metadata": {
  "kernelspec": {
   "display_name": "Python 3 (ipykernel)",
   "language": "python",
   "name": "python3"
  },
  "language_info": {
   "codemirror_mode": {
    "name": "ipython",
    "version": 3
   },
   "file_extension": ".py",
   "mimetype": "text/x-python",
   "name": "python",
   "nbconvert_exporter": "python",
   "pygments_lexer": "ipython3",
   "version": "3.11.5"
  }
 },
 "nbformat": 4,
 "nbformat_minor": 2
}
